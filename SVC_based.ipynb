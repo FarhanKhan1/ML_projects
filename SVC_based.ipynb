{
  "nbformat": 4,
  "nbformat_minor": 0,
  "metadata": {
    "colab": {
      "name": "Untitled4.ipynb",
      "provenance": [],
      "authorship_tag": "ABX9TyM1yefdqGVWecx8RPeiY51N"
    },
    "kernelspec": {
      "name": "python3",
      "display_name": "Python 3"
    },
    "language_info": {
      "name": "python"
    }
  },
  "cells": [
    {
      "cell_type": "code",
      "source": [
        "import sklearn\n",
        "import matplotlib as plt "
      ],
      "metadata": {
        "id": "pMEdB-S5415F"
      },
      "execution_count": null,
      "outputs": []
    },
    {
      "cell_type": "code",
      "source": [
        "from sklearn import datasets"
      ],
      "metadata": {
        "id": "HEIsMQLv5acP"
      },
      "execution_count": null,
      "outputs": []
    },
    {
      "cell_type": "code",
      "source": [
        "dir(datasets)"
      ],
      "metadata": {
        "id": "JpLKIiZu-iI1"
      },
      "execution_count": null,
      "outputs": []
    },
    {
      "cell_type": "code",
      "source": [
        "iris_ = datasets.load_iris()"
      ],
      "metadata": {
        "id": "SinYnLwc-5lM"
      },
      "execution_count": null,
      "outputs": []
    },
    {
      "cell_type": "code",
      "source": [
        "iris_"
      ],
      "metadata": {
        "id": "_cQeYzos_F03"
      },
      "execution_count": null,
      "outputs": []
    },
    {
      "cell_type": "code",
      "source": [
        "iris_.feature_names"
      ],
      "metadata": {
        "id": "GVYOak8uBMb1"
      },
      "execution_count": null,
      "outputs": []
    },
    {
      "cell_type": "code",
      "source": [
        "iris_.data "
      ],
      "metadata": {
        "id": "fMLp-j5HBg-V"
      },
      "execution_count": null,
      "outputs": []
    },
    {
      "cell_type": "code",
      "source": [
        "iris_.target"
      ],
      "metadata": {
        "id": "0p5cP0vEBqiO"
      },
      "execution_count": null,
      "outputs": []
    },
    {
      "cell_type": "code",
      "source": [
        "iris_.target_names"
      ],
      "metadata": {
        "id": "tb5vjVZ_CDbu"
      },
      "execution_count": null,
      "outputs": []
    },
    {
      "cell_type": "code",
      "source": [
        "iris_.DESCR"
      ],
      "metadata": {
        "id": "kXAeLME-Cqj6"
      },
      "execution_count": null,
      "outputs": []
    },
    {
      "cell_type": "code",
      "source": [
        "mice = datasets.fetch_openml(name='miceprotein', version=4)\n"
      ],
      "metadata": {
        "id": "BRQzyI_WEeIG"
      },
      "execution_count": null,
      "outputs": []
    },
    {
      "cell_type": "code",
      "source": [
        "mice"
      ],
      "metadata": {
        "id": "RfWxFnB3E6UH"
      },
      "execution_count": null,
      "outputs": []
    },
    {
      "cell_type": "code",
      "source": [
        "mice.details"
      ],
      "metadata": {
        "colab": {
          "base_uri": "https://localhost:8080/"
        },
        "id": "6fRlfMJKFGil",
        "outputId": "760966d4-fb36-4f29-c306-7f0edc0c2514"
      },
      "execution_count": null,
      "outputs": [
        {
          "output_type": "execute_result",
          "data": {
            "text/plain": [
              "{'default_target_attribute': 'class',\n",
              " 'description_version': '1',\n",
              " 'file_id': '17928620',\n",
              " 'format': 'ARFF',\n",
              " 'id': '40966',\n",
              " 'ignore_attribute': ['Genotype', 'Treatment', 'Behavior'],\n",
              " 'licence': 'Public',\n",
              " 'md5_checksum': '3c479a6885bfa0438971388283a1ce32',\n",
              " 'minio_url': 'http://openml1.win.tue.nl/dataset40966/dataset_40966.pq',\n",
              " 'name': 'MiceProtein',\n",
              " 'processing_date': '2018-10-04 00:49:58',\n",
              " 'row_id_attribute': 'MouseID',\n",
              " 'status': 'active',\n",
              " 'tag': ['OpenML-CC18', 'study_135', 'study_98', 'study_99'],\n",
              " 'upload_date': '2017-11-08T16:00:15',\n",
              " 'url': 'https://www.openml.org/data/v1/download/17928620/MiceProtein.arff',\n",
              " 'version': '4',\n",
              " 'visibility': 'public'}"
            ]
          },
          "metadata": {},
          "execution_count": 17
        }
      ]
    },
    {
      "cell_type": "markdown",
      "source": [
        "# New Section"
      ],
      "metadata": {
        "id": "Rrjv9DvkHdhw"
      }
    },
    {
      "cell_type": "code",
      "source": [
        "import pandas as pd \n",
        "total_data = pd.read_csv('/Seed_Data.csv')"
      ],
      "metadata": {
        "id": "9V8hdx2WIGuG"
      },
      "execution_count": null,
      "outputs": []
    },
    {
      "cell_type": "code",
      "source": [
        "X = total_data.iloc[:,:7]\n",
        "Y = total_data.iloc[:,7]"
      ],
      "metadata": {
        "id": "GQxAR5lNJ23K"
      },
      "execution_count": null,
      "outputs": []
    },
    {
      "cell_type": "code",
      "source": [
        "Y"
      ],
      "metadata": {
        "id": "P4XfMZaQKrec"
      },
      "execution_count": null,
      "outputs": []
    },
    {
      "cell_type": "code",
      "source": [
        "from sklearn.svm import SVC\n",
        "from sklearn.model_selection import train_test_split\n",
        "X_train, X_test, Y_train,Y_test = train_test_split(X,Y,test_size = 0.2, random_state=13)\n",
        " \n"
      ],
      "metadata": {
        "id": "naZrjVj8LhJ-"
      },
      "execution_count": null,
      "outputs": []
    },
    {
      "cell_type": "code",
      "source": [
        "from sklearn.preprocessing import StandardScaler\n",
        "sc = StandardScaler()\n",
        "X_train = sc.fit_transform(X_train)\n",
        "X_test = sc.transform(X_test)\n",
        "clf = SVC()\n",
        "clf.fit(X_train, Y_train) \n",
        "#Y_train = sc.fit_transform(Y_train)\n",
        "\n"
      ],
      "metadata": {
        "colab": {
          "base_uri": "https://localhost:8080/"
        },
        "id": "wMyCfqo7NccP",
        "outputId": "a50c70ab-67e7-47c4-88ca-e04d1de5f271"
      },
      "execution_count": null,
      "outputs": [
        {
          "output_type": "execute_result",
          "data": {
            "text/plain": [
              "SVC()"
            ]
          },
          "metadata": {},
          "execution_count": 29
        }
      ]
    },
    {
      "cell_type": "code",
      "source": [
        "pred_clf = clf.predict(X_test)\n"
      ],
      "metadata": {
        "id": "5H66PIfATB98"
      },
      "execution_count": null,
      "outputs": []
    },
    {
      "cell_type": "code",
      "source": [
        "sklearn.metrics.accuracy_score(Y_test, pred_clf) "
      ],
      "metadata": {
        "colab": {
          "base_uri": "https://localhost:8080/"
        },
        "id": "itVQ1b_STPgu",
        "outputId": "625817be-861e-4822-87a7-da8bfd22bf48"
      },
      "execution_count": null,
      "outputs": [
        {
          "output_type": "execute_result",
          "data": {
            "text/plain": [
              "0.9523809523809523"
            ]
          },
          "metadata": {},
          "execution_count": 31
        }
      ]
    }
  ]
}