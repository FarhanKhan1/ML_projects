{
  "nbformat": 4,
  "nbformat_minor": 0,
  "metadata": {
    "colab": {
      "name": "Seeds_classification.ipynb",
      "provenance": [],
      "authorship_tag": "ABX9TyMUJnKZRSFH9mo1zIw/sqgF",
      "include_colab_link": true
    },
    "kernelspec": {
      "name": "python3",
      "display_name": "Python 3"
    },
    "language_info": {
      "name": "python"
    }
  },
  "cells": [
    {
      "cell_type": "markdown",
      "metadata": {
        "id": "view-in-github",
        "colab_type": "text"
      },
      "source": [
        "<a href=\"https://colab.research.google.com/github/FarhanKhan1/ML_projects/blob/main/SVC_pickling_change.ipynb\" target=\"_parent\"><img src=\"https://colab.research.google.com/assets/colab-badge.svg\" alt=\"Open In Colab\"/></a>"
      ]
    },
    {
      "cell_type": "code",
      "source": [
        "import sklearn\n",
        "import matplotlib as plt "
      ],
      "metadata": {
        "id": "pMEdB-S5415F"
      },
      "execution_count": 1,
      "outputs": []
    },
    {
      "cell_type": "code",
      "source": [
        "from sklearn import datasets"
      ],
      "metadata": {
        "id": "HEIsMQLv5acP"
      },
      "execution_count": 2,
      "outputs": []
    },
    {
      "cell_type": "code",
      "source": [
        "dir(datasets)"
      ],
      "metadata": {
        "id": "JpLKIiZu-iI1",
        "colab": {
          "base_uri": "https://localhost:8080/"
        },
        "outputId": "97f471fa-bdf0-4795-c402-f1cb1692cd93"
      },
      "execution_count": 3,
      "outputs": [
        {
          "output_type": "execute_result",
          "data": {
            "text/plain": [
              "['__all__',\n",
              " '__builtins__',\n",
              " '__cached__',\n",
              " '__doc__',\n",
              " '__file__',\n",
              " '__loader__',\n",
              " '__name__',\n",
              " '__package__',\n",
              " '__path__',\n",
              " '__spec__',\n",
              " '_base',\n",
              " '_california_housing',\n",
              " '_covtype',\n",
              " '_kddcup99',\n",
              " '_lfw',\n",
              " '_olivetti_faces',\n",
              " '_openml',\n",
              " '_rcv1',\n",
              " '_samples_generator',\n",
              " '_species_distributions',\n",
              " '_svmlight_format_fast',\n",
              " '_svmlight_format_io',\n",
              " '_twenty_newsgroups',\n",
              " 'clear_data_home',\n",
              " 'dump_svmlight_file',\n",
              " 'fetch_20newsgroups',\n",
              " 'fetch_20newsgroups_vectorized',\n",
              " 'fetch_california_housing',\n",
              " 'fetch_covtype',\n",
              " 'fetch_kddcup99',\n",
              " 'fetch_lfw_pairs',\n",
              " 'fetch_lfw_people',\n",
              " 'fetch_olivetti_faces',\n",
              " 'fetch_openml',\n",
              " 'fetch_rcv1',\n",
              " 'fetch_species_distributions',\n",
              " 'get_data_home',\n",
              " 'load_boston',\n",
              " 'load_breast_cancer',\n",
              " 'load_diabetes',\n",
              " 'load_digits',\n",
              " 'load_files',\n",
              " 'load_iris',\n",
              " 'load_linnerud',\n",
              " 'load_sample_image',\n",
              " 'load_sample_images',\n",
              " 'load_svmlight_file',\n",
              " 'load_svmlight_files',\n",
              " 'load_wine',\n",
              " 'make_biclusters',\n",
              " 'make_blobs',\n",
              " 'make_checkerboard',\n",
              " 'make_circles',\n",
              " 'make_classification',\n",
              " 'make_friedman1',\n",
              " 'make_friedman2',\n",
              " 'make_friedman3',\n",
              " 'make_gaussian_quantiles',\n",
              " 'make_hastie_10_2',\n",
              " 'make_low_rank_matrix',\n",
              " 'make_moons',\n",
              " 'make_multilabel_classification',\n",
              " 'make_regression',\n",
              " 'make_s_curve',\n",
              " 'make_sparse_coded_signal',\n",
              " 'make_sparse_spd_matrix',\n",
              " 'make_sparse_uncorrelated',\n",
              " 'make_spd_matrix',\n",
              " 'make_swiss_roll']"
            ]
          },
          "metadata": {},
          "execution_count": 3
        }
      ]
    },
    {
      "cell_type": "code",
      "source": [
        "iris_ = datasets.load_iris()"
      ],
      "metadata": {
        "id": "SinYnLwc-5lM"
      },
      "execution_count": 4,
      "outputs": []
    },
    {
      "cell_type": "code",
      "source": [
        "iris_"
      ],
      "metadata": {
        "id": "_cQeYzos_F03",
        "colab": {
          "base_uri": "https://localhost:8080/"
        },
        "outputId": "cc02f3c1-a4d3-4932-e1de-e27f89fe5d13"
      },
      "execution_count": 5,
      "outputs": [
        {
          "output_type": "execute_result",
          "data": {
            "text/plain": [
              "{'DESCR': '.. _iris_dataset:\\n\\nIris plants dataset\\n--------------------\\n\\n**Data Set Characteristics:**\\n\\n    :Number of Instances: 150 (50 in each of three classes)\\n    :Number of Attributes: 4 numeric, predictive attributes and the class\\n    :Attribute Information:\\n        - sepal length in cm\\n        - sepal width in cm\\n        - petal length in cm\\n        - petal width in cm\\n        - class:\\n                - Iris-Setosa\\n                - Iris-Versicolour\\n                - Iris-Virginica\\n                \\n    :Summary Statistics:\\n\\n    ============== ==== ==== ======= ===== ====================\\n                    Min  Max   Mean    SD   Class Correlation\\n    ============== ==== ==== ======= ===== ====================\\n    sepal length:   4.3  7.9   5.84   0.83    0.7826\\n    sepal width:    2.0  4.4   3.05   0.43   -0.4194\\n    petal length:   1.0  6.9   3.76   1.76    0.9490  (high!)\\n    petal width:    0.1  2.5   1.20   0.76    0.9565  (high!)\\n    ============== ==== ==== ======= ===== ====================\\n\\n    :Missing Attribute Values: None\\n    :Class Distribution: 33.3% for each of 3 classes.\\n    :Creator: R.A. Fisher\\n    :Donor: Michael Marshall (MARSHALL%PLU@io.arc.nasa.gov)\\n    :Date: July, 1988\\n\\nThe famous Iris database, first used by Sir R.A. Fisher. The dataset is taken\\nfrom Fisher\\'s paper. Note that it\\'s the same as in R, but not as in the UCI\\nMachine Learning Repository, which has two wrong data points.\\n\\nThis is perhaps the best known database to be found in the\\npattern recognition literature.  Fisher\\'s paper is a classic in the field and\\nis referenced frequently to this day.  (See Duda & Hart, for example.)  The\\ndata set contains 3 classes of 50 instances each, where each class refers to a\\ntype of iris plant.  One class is linearly separable from the other 2; the\\nlatter are NOT linearly separable from each other.\\n\\n.. topic:: References\\n\\n   - Fisher, R.A. \"The use of multiple measurements in taxonomic problems\"\\n     Annual Eugenics, 7, Part II, 179-188 (1936); also in \"Contributions to\\n     Mathematical Statistics\" (John Wiley, NY, 1950).\\n   - Duda, R.O., & Hart, P.E. (1973) Pattern Classification and Scene Analysis.\\n     (Q327.D83) John Wiley & Sons.  ISBN 0-471-22361-1.  See page 218.\\n   - Dasarathy, B.V. (1980) \"Nosing Around the Neighborhood: A New System\\n     Structure and Classification Rule for Recognition in Partially Exposed\\n     Environments\".  IEEE Transactions on Pattern Analysis and Machine\\n     Intelligence, Vol. PAMI-2, No. 1, 67-71.\\n   - Gates, G.W. (1972) \"The Reduced Nearest Neighbor Rule\".  IEEE Transactions\\n     on Information Theory, May 1972, 431-433.\\n   - See also: 1988 MLC Proceedings, 54-64.  Cheeseman et al\"s AUTOCLASS II\\n     conceptual clustering system finds 3 classes in the data.\\n   - Many, many more ...',\n",
              " 'data': array([[5.1, 3.5, 1.4, 0.2],\n",
              "        [4.9, 3. , 1.4, 0.2],\n",
              "        [4.7, 3.2, 1.3, 0.2],\n",
              "        [4.6, 3.1, 1.5, 0.2],\n",
              "        [5. , 3.6, 1.4, 0.2],\n",
              "        [5.4, 3.9, 1.7, 0.4],\n",
              "        [4.6, 3.4, 1.4, 0.3],\n",
              "        [5. , 3.4, 1.5, 0.2],\n",
              "        [4.4, 2.9, 1.4, 0.2],\n",
              "        [4.9, 3.1, 1.5, 0.1],\n",
              "        [5.4, 3.7, 1.5, 0.2],\n",
              "        [4.8, 3.4, 1.6, 0.2],\n",
              "        [4.8, 3. , 1.4, 0.1],\n",
              "        [4.3, 3. , 1.1, 0.1],\n",
              "        [5.8, 4. , 1.2, 0.2],\n",
              "        [5.7, 4.4, 1.5, 0.4],\n",
              "        [5.4, 3.9, 1.3, 0.4],\n",
              "        [5.1, 3.5, 1.4, 0.3],\n",
              "        [5.7, 3.8, 1.7, 0.3],\n",
              "        [5.1, 3.8, 1.5, 0.3],\n",
              "        [5.4, 3.4, 1.7, 0.2],\n",
              "        [5.1, 3.7, 1.5, 0.4],\n",
              "        [4.6, 3.6, 1. , 0.2],\n",
              "        [5.1, 3.3, 1.7, 0.5],\n",
              "        [4.8, 3.4, 1.9, 0.2],\n",
              "        [5. , 3. , 1.6, 0.2],\n",
              "        [5. , 3.4, 1.6, 0.4],\n",
              "        [5.2, 3.5, 1.5, 0.2],\n",
              "        [5.2, 3.4, 1.4, 0.2],\n",
              "        [4.7, 3.2, 1.6, 0.2],\n",
              "        [4.8, 3.1, 1.6, 0.2],\n",
              "        [5.4, 3.4, 1.5, 0.4],\n",
              "        [5.2, 4.1, 1.5, 0.1],\n",
              "        [5.5, 4.2, 1.4, 0.2],\n",
              "        [4.9, 3.1, 1.5, 0.2],\n",
              "        [5. , 3.2, 1.2, 0.2],\n",
              "        [5.5, 3.5, 1.3, 0.2],\n",
              "        [4.9, 3.6, 1.4, 0.1],\n",
              "        [4.4, 3. , 1.3, 0.2],\n",
              "        [5.1, 3.4, 1.5, 0.2],\n",
              "        [5. , 3.5, 1.3, 0.3],\n",
              "        [4.5, 2.3, 1.3, 0.3],\n",
              "        [4.4, 3.2, 1.3, 0.2],\n",
              "        [5. , 3.5, 1.6, 0.6],\n",
              "        [5.1, 3.8, 1.9, 0.4],\n",
              "        [4.8, 3. , 1.4, 0.3],\n",
              "        [5.1, 3.8, 1.6, 0.2],\n",
              "        [4.6, 3.2, 1.4, 0.2],\n",
              "        [5.3, 3.7, 1.5, 0.2],\n",
              "        [5. , 3.3, 1.4, 0.2],\n",
              "        [7. , 3.2, 4.7, 1.4],\n",
              "        [6.4, 3.2, 4.5, 1.5],\n",
              "        [6.9, 3.1, 4.9, 1.5],\n",
              "        [5.5, 2.3, 4. , 1.3],\n",
              "        [6.5, 2.8, 4.6, 1.5],\n",
              "        [5.7, 2.8, 4.5, 1.3],\n",
              "        [6.3, 3.3, 4.7, 1.6],\n",
              "        [4.9, 2.4, 3.3, 1. ],\n",
              "        [6.6, 2.9, 4.6, 1.3],\n",
              "        [5.2, 2.7, 3.9, 1.4],\n",
              "        [5. , 2. , 3.5, 1. ],\n",
              "        [5.9, 3. , 4.2, 1.5],\n",
              "        [6. , 2.2, 4. , 1. ],\n",
              "        [6.1, 2.9, 4.7, 1.4],\n",
              "        [5.6, 2.9, 3.6, 1.3],\n",
              "        [6.7, 3.1, 4.4, 1.4],\n",
              "        [5.6, 3. , 4.5, 1.5],\n",
              "        [5.8, 2.7, 4.1, 1. ],\n",
              "        [6.2, 2.2, 4.5, 1.5],\n",
              "        [5.6, 2.5, 3.9, 1.1],\n",
              "        [5.9, 3.2, 4.8, 1.8],\n",
              "        [6.1, 2.8, 4. , 1.3],\n",
              "        [6.3, 2.5, 4.9, 1.5],\n",
              "        [6.1, 2.8, 4.7, 1.2],\n",
              "        [6.4, 2.9, 4.3, 1.3],\n",
              "        [6.6, 3. , 4.4, 1.4],\n",
              "        [6.8, 2.8, 4.8, 1.4],\n",
              "        [6.7, 3. , 5. , 1.7],\n",
              "        [6. , 2.9, 4.5, 1.5],\n",
              "        [5.7, 2.6, 3.5, 1. ],\n",
              "        [5.5, 2.4, 3.8, 1.1],\n",
              "        [5.5, 2.4, 3.7, 1. ],\n",
              "        [5.8, 2.7, 3.9, 1.2],\n",
              "        [6. , 2.7, 5.1, 1.6],\n",
              "        [5.4, 3. , 4.5, 1.5],\n",
              "        [6. , 3.4, 4.5, 1.6],\n",
              "        [6.7, 3.1, 4.7, 1.5],\n",
              "        [6.3, 2.3, 4.4, 1.3],\n",
              "        [5.6, 3. , 4.1, 1.3],\n",
              "        [5.5, 2.5, 4. , 1.3],\n",
              "        [5.5, 2.6, 4.4, 1.2],\n",
              "        [6.1, 3. , 4.6, 1.4],\n",
              "        [5.8, 2.6, 4. , 1.2],\n",
              "        [5. , 2.3, 3.3, 1. ],\n",
              "        [5.6, 2.7, 4.2, 1.3],\n",
              "        [5.7, 3. , 4.2, 1.2],\n",
              "        [5.7, 2.9, 4.2, 1.3],\n",
              "        [6.2, 2.9, 4.3, 1.3],\n",
              "        [5.1, 2.5, 3. , 1.1],\n",
              "        [5.7, 2.8, 4.1, 1.3],\n",
              "        [6.3, 3.3, 6. , 2.5],\n",
              "        [5.8, 2.7, 5.1, 1.9],\n",
              "        [7.1, 3. , 5.9, 2.1],\n",
              "        [6.3, 2.9, 5.6, 1.8],\n",
              "        [6.5, 3. , 5.8, 2.2],\n",
              "        [7.6, 3. , 6.6, 2.1],\n",
              "        [4.9, 2.5, 4.5, 1.7],\n",
              "        [7.3, 2.9, 6.3, 1.8],\n",
              "        [6.7, 2.5, 5.8, 1.8],\n",
              "        [7.2, 3.6, 6.1, 2.5],\n",
              "        [6.5, 3.2, 5.1, 2. ],\n",
              "        [6.4, 2.7, 5.3, 1.9],\n",
              "        [6.8, 3. , 5.5, 2.1],\n",
              "        [5.7, 2.5, 5. , 2. ],\n",
              "        [5.8, 2.8, 5.1, 2.4],\n",
              "        [6.4, 3.2, 5.3, 2.3],\n",
              "        [6.5, 3. , 5.5, 1.8],\n",
              "        [7.7, 3.8, 6.7, 2.2],\n",
              "        [7.7, 2.6, 6.9, 2.3],\n",
              "        [6. , 2.2, 5. , 1.5],\n",
              "        [6.9, 3.2, 5.7, 2.3],\n",
              "        [5.6, 2.8, 4.9, 2. ],\n",
              "        [7.7, 2.8, 6.7, 2. ],\n",
              "        [6.3, 2.7, 4.9, 1.8],\n",
              "        [6.7, 3.3, 5.7, 2.1],\n",
              "        [7.2, 3.2, 6. , 1.8],\n",
              "        [6.2, 2.8, 4.8, 1.8],\n",
              "        [6.1, 3. , 4.9, 1.8],\n",
              "        [6.4, 2.8, 5.6, 2.1],\n",
              "        [7.2, 3. , 5.8, 1.6],\n",
              "        [7.4, 2.8, 6.1, 1.9],\n",
              "        [7.9, 3.8, 6.4, 2. ],\n",
              "        [6.4, 2.8, 5.6, 2.2],\n",
              "        [6.3, 2.8, 5.1, 1.5],\n",
              "        [6.1, 2.6, 5.6, 1.4],\n",
              "        [7.7, 3. , 6.1, 2.3],\n",
              "        [6.3, 3.4, 5.6, 2.4],\n",
              "        [6.4, 3.1, 5.5, 1.8],\n",
              "        [6. , 3. , 4.8, 1.8],\n",
              "        [6.9, 3.1, 5.4, 2.1],\n",
              "        [6.7, 3.1, 5.6, 2.4],\n",
              "        [6.9, 3.1, 5.1, 2.3],\n",
              "        [5.8, 2.7, 5.1, 1.9],\n",
              "        [6.8, 3.2, 5.9, 2.3],\n",
              "        [6.7, 3.3, 5.7, 2.5],\n",
              "        [6.7, 3. , 5.2, 2.3],\n",
              "        [6.3, 2.5, 5. , 1.9],\n",
              "        [6.5, 3. , 5.2, 2. ],\n",
              "        [6.2, 3.4, 5.4, 2.3],\n",
              "        [5.9, 3. , 5.1, 1.8]]),\n",
              " 'data_module': 'sklearn.datasets.data',\n",
              " 'feature_names': ['sepal length (cm)',\n",
              "  'sepal width (cm)',\n",
              "  'petal length (cm)',\n",
              "  'petal width (cm)'],\n",
              " 'filename': 'iris.csv',\n",
              " 'frame': None,\n",
              " 'target': array([0, 0, 0, 0, 0, 0, 0, 0, 0, 0, 0, 0, 0, 0, 0, 0, 0, 0, 0, 0, 0, 0,\n",
              "        0, 0, 0, 0, 0, 0, 0, 0, 0, 0, 0, 0, 0, 0, 0, 0, 0, 0, 0, 0, 0, 0,\n",
              "        0, 0, 0, 0, 0, 0, 1, 1, 1, 1, 1, 1, 1, 1, 1, 1, 1, 1, 1, 1, 1, 1,\n",
              "        1, 1, 1, 1, 1, 1, 1, 1, 1, 1, 1, 1, 1, 1, 1, 1, 1, 1, 1, 1, 1, 1,\n",
              "        1, 1, 1, 1, 1, 1, 1, 1, 1, 1, 1, 1, 2, 2, 2, 2, 2, 2, 2, 2, 2, 2,\n",
              "        2, 2, 2, 2, 2, 2, 2, 2, 2, 2, 2, 2, 2, 2, 2, 2, 2, 2, 2, 2, 2, 2,\n",
              "        2, 2, 2, 2, 2, 2, 2, 2, 2, 2, 2, 2, 2, 2, 2, 2, 2, 2]),\n",
              " 'target_names': array(['setosa', 'versicolor', 'virginica'], dtype='<U10')}"
            ]
          },
          "metadata": {},
          "execution_count": 5
        }
      ]
    },
    {
      "cell_type": "code",
      "source": [
        "iris_.feature_names"
      ],
      "metadata": {
        "id": "GVYOak8uBMb1",
        "colab": {
          "base_uri": "https://localhost:8080/"
        },
        "outputId": "1c7e8da7-b0db-4e24-91d8-9bd4ba9e0efb"
      },
      "execution_count": 6,
      "outputs": [
        {
          "output_type": "execute_result",
          "data": {
            "text/plain": [
              "['sepal length (cm)',\n",
              " 'sepal width (cm)',\n",
              " 'petal length (cm)',\n",
              " 'petal width (cm)']"
            ]
          },
          "metadata": {},
          "execution_count": 6
        }
      ]
    },
    {
      "cell_type": "code",
      "source": [
        "iris_.data "
      ],
      "metadata": {
        "id": "fMLp-j5HBg-V",
        "colab": {
          "base_uri": "https://localhost:8080/"
        },
        "outputId": "0d79f3aa-bd80-43e7-9846-5a2e15cc92e1"
      },
      "execution_count": 7,
      "outputs": [
        {
          "output_type": "execute_result",
          "data": {
            "text/plain": [
              "array([[5.1, 3.5, 1.4, 0.2],\n",
              "       [4.9, 3. , 1.4, 0.2],\n",
              "       [4.7, 3.2, 1.3, 0.2],\n",
              "       [4.6, 3.1, 1.5, 0.2],\n",
              "       [5. , 3.6, 1.4, 0.2],\n",
              "       [5.4, 3.9, 1.7, 0.4],\n",
              "       [4.6, 3.4, 1.4, 0.3],\n",
              "       [5. , 3.4, 1.5, 0.2],\n",
              "       [4.4, 2.9, 1.4, 0.2],\n",
              "       [4.9, 3.1, 1.5, 0.1],\n",
              "       [5.4, 3.7, 1.5, 0.2],\n",
              "       [4.8, 3.4, 1.6, 0.2],\n",
              "       [4.8, 3. , 1.4, 0.1],\n",
              "       [4.3, 3. , 1.1, 0.1],\n",
              "       [5.8, 4. , 1.2, 0.2],\n",
              "       [5.7, 4.4, 1.5, 0.4],\n",
              "       [5.4, 3.9, 1.3, 0.4],\n",
              "       [5.1, 3.5, 1.4, 0.3],\n",
              "       [5.7, 3.8, 1.7, 0.3],\n",
              "       [5.1, 3.8, 1.5, 0.3],\n",
              "       [5.4, 3.4, 1.7, 0.2],\n",
              "       [5.1, 3.7, 1.5, 0.4],\n",
              "       [4.6, 3.6, 1. , 0.2],\n",
              "       [5.1, 3.3, 1.7, 0.5],\n",
              "       [4.8, 3.4, 1.9, 0.2],\n",
              "       [5. , 3. , 1.6, 0.2],\n",
              "       [5. , 3.4, 1.6, 0.4],\n",
              "       [5.2, 3.5, 1.5, 0.2],\n",
              "       [5.2, 3.4, 1.4, 0.2],\n",
              "       [4.7, 3.2, 1.6, 0.2],\n",
              "       [4.8, 3.1, 1.6, 0.2],\n",
              "       [5.4, 3.4, 1.5, 0.4],\n",
              "       [5.2, 4.1, 1.5, 0.1],\n",
              "       [5.5, 4.2, 1.4, 0.2],\n",
              "       [4.9, 3.1, 1.5, 0.2],\n",
              "       [5. , 3.2, 1.2, 0.2],\n",
              "       [5.5, 3.5, 1.3, 0.2],\n",
              "       [4.9, 3.6, 1.4, 0.1],\n",
              "       [4.4, 3. , 1.3, 0.2],\n",
              "       [5.1, 3.4, 1.5, 0.2],\n",
              "       [5. , 3.5, 1.3, 0.3],\n",
              "       [4.5, 2.3, 1.3, 0.3],\n",
              "       [4.4, 3.2, 1.3, 0.2],\n",
              "       [5. , 3.5, 1.6, 0.6],\n",
              "       [5.1, 3.8, 1.9, 0.4],\n",
              "       [4.8, 3. , 1.4, 0.3],\n",
              "       [5.1, 3.8, 1.6, 0.2],\n",
              "       [4.6, 3.2, 1.4, 0.2],\n",
              "       [5.3, 3.7, 1.5, 0.2],\n",
              "       [5. , 3.3, 1.4, 0.2],\n",
              "       [7. , 3.2, 4.7, 1.4],\n",
              "       [6.4, 3.2, 4.5, 1.5],\n",
              "       [6.9, 3.1, 4.9, 1.5],\n",
              "       [5.5, 2.3, 4. , 1.3],\n",
              "       [6.5, 2.8, 4.6, 1.5],\n",
              "       [5.7, 2.8, 4.5, 1.3],\n",
              "       [6.3, 3.3, 4.7, 1.6],\n",
              "       [4.9, 2.4, 3.3, 1. ],\n",
              "       [6.6, 2.9, 4.6, 1.3],\n",
              "       [5.2, 2.7, 3.9, 1.4],\n",
              "       [5. , 2. , 3.5, 1. ],\n",
              "       [5.9, 3. , 4.2, 1.5],\n",
              "       [6. , 2.2, 4. , 1. ],\n",
              "       [6.1, 2.9, 4.7, 1.4],\n",
              "       [5.6, 2.9, 3.6, 1.3],\n",
              "       [6.7, 3.1, 4.4, 1.4],\n",
              "       [5.6, 3. , 4.5, 1.5],\n",
              "       [5.8, 2.7, 4.1, 1. ],\n",
              "       [6.2, 2.2, 4.5, 1.5],\n",
              "       [5.6, 2.5, 3.9, 1.1],\n",
              "       [5.9, 3.2, 4.8, 1.8],\n",
              "       [6.1, 2.8, 4. , 1.3],\n",
              "       [6.3, 2.5, 4.9, 1.5],\n",
              "       [6.1, 2.8, 4.7, 1.2],\n",
              "       [6.4, 2.9, 4.3, 1.3],\n",
              "       [6.6, 3. , 4.4, 1.4],\n",
              "       [6.8, 2.8, 4.8, 1.4],\n",
              "       [6.7, 3. , 5. , 1.7],\n",
              "       [6. , 2.9, 4.5, 1.5],\n",
              "       [5.7, 2.6, 3.5, 1. ],\n",
              "       [5.5, 2.4, 3.8, 1.1],\n",
              "       [5.5, 2.4, 3.7, 1. ],\n",
              "       [5.8, 2.7, 3.9, 1.2],\n",
              "       [6. , 2.7, 5.1, 1.6],\n",
              "       [5.4, 3. , 4.5, 1.5],\n",
              "       [6. , 3.4, 4.5, 1.6],\n",
              "       [6.7, 3.1, 4.7, 1.5],\n",
              "       [6.3, 2.3, 4.4, 1.3],\n",
              "       [5.6, 3. , 4.1, 1.3],\n",
              "       [5.5, 2.5, 4. , 1.3],\n",
              "       [5.5, 2.6, 4.4, 1.2],\n",
              "       [6.1, 3. , 4.6, 1.4],\n",
              "       [5.8, 2.6, 4. , 1.2],\n",
              "       [5. , 2.3, 3.3, 1. ],\n",
              "       [5.6, 2.7, 4.2, 1.3],\n",
              "       [5.7, 3. , 4.2, 1.2],\n",
              "       [5.7, 2.9, 4.2, 1.3],\n",
              "       [6.2, 2.9, 4.3, 1.3],\n",
              "       [5.1, 2.5, 3. , 1.1],\n",
              "       [5.7, 2.8, 4.1, 1.3],\n",
              "       [6.3, 3.3, 6. , 2.5],\n",
              "       [5.8, 2.7, 5.1, 1.9],\n",
              "       [7.1, 3. , 5.9, 2.1],\n",
              "       [6.3, 2.9, 5.6, 1.8],\n",
              "       [6.5, 3. , 5.8, 2.2],\n",
              "       [7.6, 3. , 6.6, 2.1],\n",
              "       [4.9, 2.5, 4.5, 1.7],\n",
              "       [7.3, 2.9, 6.3, 1.8],\n",
              "       [6.7, 2.5, 5.8, 1.8],\n",
              "       [7.2, 3.6, 6.1, 2.5],\n",
              "       [6.5, 3.2, 5.1, 2. ],\n",
              "       [6.4, 2.7, 5.3, 1.9],\n",
              "       [6.8, 3. , 5.5, 2.1],\n",
              "       [5.7, 2.5, 5. , 2. ],\n",
              "       [5.8, 2.8, 5.1, 2.4],\n",
              "       [6.4, 3.2, 5.3, 2.3],\n",
              "       [6.5, 3. , 5.5, 1.8],\n",
              "       [7.7, 3.8, 6.7, 2.2],\n",
              "       [7.7, 2.6, 6.9, 2.3],\n",
              "       [6. , 2.2, 5. , 1.5],\n",
              "       [6.9, 3.2, 5.7, 2.3],\n",
              "       [5.6, 2.8, 4.9, 2. ],\n",
              "       [7.7, 2.8, 6.7, 2. ],\n",
              "       [6.3, 2.7, 4.9, 1.8],\n",
              "       [6.7, 3.3, 5.7, 2.1],\n",
              "       [7.2, 3.2, 6. , 1.8],\n",
              "       [6.2, 2.8, 4.8, 1.8],\n",
              "       [6.1, 3. , 4.9, 1.8],\n",
              "       [6.4, 2.8, 5.6, 2.1],\n",
              "       [7.2, 3. , 5.8, 1.6],\n",
              "       [7.4, 2.8, 6.1, 1.9],\n",
              "       [7.9, 3.8, 6.4, 2. ],\n",
              "       [6.4, 2.8, 5.6, 2.2],\n",
              "       [6.3, 2.8, 5.1, 1.5],\n",
              "       [6.1, 2.6, 5.6, 1.4],\n",
              "       [7.7, 3. , 6.1, 2.3],\n",
              "       [6.3, 3.4, 5.6, 2.4],\n",
              "       [6.4, 3.1, 5.5, 1.8],\n",
              "       [6. , 3. , 4.8, 1.8],\n",
              "       [6.9, 3.1, 5.4, 2.1],\n",
              "       [6.7, 3.1, 5.6, 2.4],\n",
              "       [6.9, 3.1, 5.1, 2.3],\n",
              "       [5.8, 2.7, 5.1, 1.9],\n",
              "       [6.8, 3.2, 5.9, 2.3],\n",
              "       [6.7, 3.3, 5.7, 2.5],\n",
              "       [6.7, 3. , 5.2, 2.3],\n",
              "       [6.3, 2.5, 5. , 1.9],\n",
              "       [6.5, 3. , 5.2, 2. ],\n",
              "       [6.2, 3.4, 5.4, 2.3],\n",
              "       [5.9, 3. , 5.1, 1.8]])"
            ]
          },
          "metadata": {},
          "execution_count": 7
        }
      ]
    },
    {
      "cell_type": "code",
      "source": [
        "iris_.target"
      ],
      "metadata": {
        "id": "0p5cP0vEBqiO",
        "colab": {
          "base_uri": "https://localhost:8080/"
        },
        "outputId": "7633e447-7082-455c-95ad-d1b9bd0b60f4"
      },
      "execution_count": 8,
      "outputs": [
        {
          "output_type": "execute_result",
          "data": {
            "text/plain": [
              "array([0, 0, 0, 0, 0, 0, 0, 0, 0, 0, 0, 0, 0, 0, 0, 0, 0, 0, 0, 0, 0, 0,\n",
              "       0, 0, 0, 0, 0, 0, 0, 0, 0, 0, 0, 0, 0, 0, 0, 0, 0, 0, 0, 0, 0, 0,\n",
              "       0, 0, 0, 0, 0, 0, 1, 1, 1, 1, 1, 1, 1, 1, 1, 1, 1, 1, 1, 1, 1, 1,\n",
              "       1, 1, 1, 1, 1, 1, 1, 1, 1, 1, 1, 1, 1, 1, 1, 1, 1, 1, 1, 1, 1, 1,\n",
              "       1, 1, 1, 1, 1, 1, 1, 1, 1, 1, 1, 1, 2, 2, 2, 2, 2, 2, 2, 2, 2, 2,\n",
              "       2, 2, 2, 2, 2, 2, 2, 2, 2, 2, 2, 2, 2, 2, 2, 2, 2, 2, 2, 2, 2, 2,\n",
              "       2, 2, 2, 2, 2, 2, 2, 2, 2, 2, 2, 2, 2, 2, 2, 2, 2, 2])"
            ]
          },
          "metadata": {},
          "execution_count": 8
        }
      ]
    },
    {
      "cell_type": "code",
      "source": [
        "iris_.target_names"
      ],
      "metadata": {
        "id": "tb5vjVZ_CDbu",
        "colab": {
          "base_uri": "https://localhost:8080/"
        },
        "outputId": "c995c230-9520-4f68-8f43-48561b49adc4"
      },
      "execution_count": 9,
      "outputs": [
        {
          "output_type": "execute_result",
          "data": {
            "text/plain": [
              "array(['setosa', 'versicolor', 'virginica'], dtype='<U10')"
            ]
          },
          "metadata": {},
          "execution_count": 9
        }
      ]
    },
    {
      "cell_type": "code",
      "source": [
        "iris_.DESCR"
      ],
      "metadata": {
        "id": "kXAeLME-Cqj6",
        "colab": {
          "base_uri": "https://localhost:8080/",
          "height": 209
        },
        "outputId": "859792b8-6e7f-427a-c6b6-8beaf34da7d0"
      },
      "execution_count": 10,
      "outputs": [
        {
          "output_type": "execute_result",
          "data": {
            "text/plain": [
              "'.. _iris_dataset:\\n\\nIris plants dataset\\n--------------------\\n\\n**Data Set Characteristics:**\\n\\n    :Number of Instances: 150 (50 in each of three classes)\\n    :Number of Attributes: 4 numeric, predictive attributes and the class\\n    :Attribute Information:\\n        - sepal length in cm\\n        - sepal width in cm\\n        - petal length in cm\\n        - petal width in cm\\n        - class:\\n                - Iris-Setosa\\n                - Iris-Versicolour\\n                - Iris-Virginica\\n                \\n    :Summary Statistics:\\n\\n    ============== ==== ==== ======= ===== ====================\\n                    Min  Max   Mean    SD   Class Correlation\\n    ============== ==== ==== ======= ===== ====================\\n    sepal length:   4.3  7.9   5.84   0.83    0.7826\\n    sepal width:    2.0  4.4   3.05   0.43   -0.4194\\n    petal length:   1.0  6.9   3.76   1.76    0.9490  (high!)\\n    petal width:    0.1  2.5   1.20   0.76    0.9565  (high!)\\n    ============== ==== ==== ======= ===== ====================\\n\\n    :Missing Attribute Values: None\\n    :Class Distribution: 33.3% for each of 3 classes.\\n    :Creator: R.A. Fisher\\n    :Donor: Michael Marshall (MARSHALL%PLU@io.arc.nasa.gov)\\n    :Date: July, 1988\\n\\nThe famous Iris database, first used by Sir R.A. Fisher. The dataset is taken\\nfrom Fisher\\'s paper. Note that it\\'s the same as in R, but not as in the UCI\\nMachine Learning Repository, which has two wrong data points.\\n\\nThis is perhaps the best known database to be found in the\\npattern recognition literature.  Fisher\\'s paper is a classic in the field and\\nis referenced frequently to this day.  (See Duda & Hart, for example.)  The\\ndata set contains 3 classes of 50 instances each, where each class refers to a\\ntype of iris plant.  One class is linearly separable from the other 2; the\\nlatter are NOT linearly separable from each other.\\n\\n.. topic:: References\\n\\n   - Fisher, R.A. \"The use of multiple measurements in taxonomic problems\"\\n     Annual Eugenics, 7, Part II, 179-188 (1936); also in \"Contributions to\\n     Mathematical Statistics\" (John Wiley, NY, 1950).\\n   - Duda, R.O., & Hart, P.E. (1973) Pattern Classification and Scene Analysis.\\n     (Q327.D83) John Wiley & Sons.  ISBN 0-471-22361-1.  See page 218.\\n   - Dasarathy, B.V. (1980) \"Nosing Around the Neighborhood: A New System\\n     Structure and Classification Rule for Recognition in Partially Exposed\\n     Environments\".  IEEE Transactions on Pattern Analysis and Machine\\n     Intelligence, Vol. PAMI-2, No. 1, 67-71.\\n   - Gates, G.W. (1972) \"The Reduced Nearest Neighbor Rule\".  IEEE Transactions\\n     on Information Theory, May 1972, 431-433.\\n   - See also: 1988 MLC Proceedings, 54-64.  Cheeseman et al\"s AUTOCLASS II\\n     conceptual clustering system finds 3 classes in the data.\\n   - Many, many more ...'"
            ],
            "application/vnd.google.colaboratory.intrinsic+json": {
              "type": "string"
            }
          },
          "metadata": {},
          "execution_count": 10
        }
      ]
    },
    {
      "cell_type": "code",
      "source": [
        "mice = datasets.fetch_openml(name='miceprotein', version=4)\n"
      ],
      "metadata": {
        "id": "BRQzyI_WEeIG"
      },
      "execution_count": 11,
      "outputs": []
    },
    {
      "cell_type": "code",
      "source": [
        "mice"
      ],
      "metadata": {
        "id": "RfWxFnB3E6UH",
        "colab": {
          "base_uri": "https://localhost:8080/"
        },
        "outputId": "f0ec4a9e-6f9d-411c-e159-461c08389331"
      },
      "execution_count": 12,
      "outputs": [
        {
          "output_type": "execute_result",
          "data": {
            "text/plain": [
              "{'DESCR': '**Author**: Clara Higuera, Katheleen J. Gardiner, Krzysztof J. Cios  \\n**Source**: [UCI](https://archive.ics.uci.edu/ml/datasets/Mice+Protein+Expression) - 2015   \\n**Please cite**: Higuera C, Gardiner KJ, Cios KJ (2015) Self-Organizing Feature Maps Identify Proteins Critical to Learning in a Mouse Model of Down Syndrome. PLoS ONE 10(6): e0129126.\\n\\nExpression levels of 77 proteins measured in the cerebral cortex of 8 classes of control and Down syndrome mice exposed to context fear conditioning, a task used to assess associative learning.\\n\\nThe data set consists of the expression levels of 77 proteins/protein modifications that produced detectable signals in the nuclear fraction of cortex. There are 38 control mice and 34 trisomic mice (Down syndrome), for a total of 72 mice. In the experiments, 15 measurements were registered of each protein per sample/mouse. Therefore, for control mice, there are 38x15, or 570 measurements, and for trisomic mice, there are 34x15, or 510 measurements. The dataset contains a total of 1080 measurements per protein. Each measurement can be considered as an independent sample/mouse. \\n\\nThe eight classes of mice are described based on features such as genotype, behavior and treatment. According to genotype, mice can be control or trisomic. According to behavior, some mice have been stimulated to learn (context-shock) and others have not (shock-context) and in order to assess the effect of the drug memantine in recovering the ability to learn in trisomic mice, some mice have been injected with the drug and others have not. \\n\\nClasses: \\n```\\n* c-CS-s: control mice, stimulated to learn, injected with saline (9 mice) \\n* c-CS-m: control mice, stimulated to learn, injected with memantine (10 mice) \\n* c-SC-s: control mice, not stimulated to learn, injected with saline (9 mice) \\n* c-SC-m: control mice, not stimulated to learn, injected with memantine (10 mice) \\n* t-CS-s: trisomy mice, stimulated to learn, injected with saline (7 mice) \\n* t-CS-m: trisomy mice, stimulated to learn, injected with memantine (9 mice) \\n* t-SC-s: trisomy mice, not stimulated to learn, injected with saline (9 mice) \\n* t-SC-m: trisomy mice, not stimulated to learn, injected with memantine (9 mice) \\n```\\n\\nThe aim is to identify subsets of proteins that are discriminant between the classes. \\n\\n### Attribute Information:\\n\\n```\\n1 Mouse ID \\n2..78 Values of expression levels of 77 proteins; the names of proteins are followed by &acirc;&euro;&oelig;_n&acirc;&euro;\\x9d indicating that they were measured in the nuclear fraction. For example: DYRK1A_n \\n79 Genotype: control (c) or trisomy (t) \\n80 Treatment type: memantine (m) or saline (s) \\n81 Behavior: context-shock (CS) or shock-context (SC) \\n82 Class: c-CS-s, c-CS-m, c-SC-s, c-SC-m, t-CS-s, t-CS-m, t-SC-s, t-SC-m \\n```\\n\\n### Relevant Papers:\\n\\nHiguera C, Gardiner KJ, Cios KJ (2015) Self-Organizing Feature Maps Identify Proteins Critical to Learning in a Mouse Model of Down Syndrome. PLoS ONE 10(6): e0129126. [Web Link] journal.pone.0129126 \\n\\nAhmed MM, Dhanasekaran AR, Block A, Tong S, Costa ACS, Stasko M, et al. (2015) Protein Dynamics Associated with Failed and Rescued Learning in the Ts65Dn Mouse Model of Down Syndrome. PLoS ONE 10(3): e0119491.\\n\\nDownloaded from openml.org.',\n",
              " 'categories': None,\n",
              " 'data':       DYRK1A_N   ITSN1_N    BDNF_N     NR1_N    NR2A_N    pAKT_N   pBRAF_N  \\\n",
              " 0     0.503644  0.747193  0.430175  2.816329  5.990152  0.218830  0.177565   \n",
              " 1     0.514617  0.689064  0.411770  2.789514  5.685038  0.211636  0.172817   \n",
              " 2     0.509183  0.730247  0.418309  2.687201  5.622059  0.209011  0.175722   \n",
              " 3     0.442107  0.617076  0.358626  2.466947  4.979503  0.222886  0.176463   \n",
              " 4     0.434940  0.617430  0.358802  2.365785  4.718679  0.213106  0.173627   \n",
              " ...        ...       ...       ...       ...       ...       ...       ...   \n",
              " 1075  0.254860  0.463591  0.254860  2.092082  2.600035  0.211736  0.171262   \n",
              " 1076  0.272198  0.474163  0.251638  2.161390  2.801492  0.251274  0.182496   \n",
              " 1077  0.228700  0.395179  0.234118  1.733184  2.220852  0.220665  0.161435   \n",
              " 1078  0.221242  0.412894  0.243974  1.876347  2.384088  0.208897  0.173623   \n",
              " 1079  0.302626  0.461059  0.256564  2.092790  2.594348  0.251001  0.191811   \n",
              " \n",
              "       pCAMKII_N   pCREB_N    pELK_N  ...     SHH_N     BAD_N  BCL2_N  \\\n",
              " 0      2.373744  0.232224  1.750936  ...  0.188852  0.122652     NaN   \n",
              " 1      2.292150  0.226972  1.596377  ...  0.200404  0.116682     NaN   \n",
              " 2      2.283337  0.230247  1.561316  ...  0.193685  0.118508     NaN   \n",
              " 3      2.152301  0.207004  1.595086  ...  0.192112  0.132781     NaN   \n",
              " 4      2.134014  0.192158  1.504230  ...  0.205604  0.129954     NaN   \n",
              " ...         ...       ...       ...  ...       ...       ...     ...   \n",
              " 1075   2.483740  0.207317  1.057971  ...  0.275547  0.190483     NaN   \n",
              " 1076   2.512737  0.216339  1.081150  ...  0.283207  0.190463     NaN   \n",
              " 1077   1.989723  0.185164  0.884342  ...  0.290843  0.216682     NaN   \n",
              " 1078   2.086028  0.192044  0.922595  ...  0.306701  0.222263     NaN   \n",
              " 1079   2.361816  0.223632  1.064085  ...  0.292330  0.227606     NaN   \n",
              " \n",
              "          pS6_N   pCFOS_N     SYP_N  H3AcK18_N    EGR1_N  H3MeK4_N    CaNA_N  \n",
              " 0     0.106305  0.108336  0.427099   0.114783  0.131790  0.128186  1.675652  \n",
              " 1     0.106592  0.104315  0.441581   0.111974  0.135103  0.131119  1.743610  \n",
              " 2     0.108303  0.106219  0.435777   0.111883  0.133362  0.127431  1.926427  \n",
              " 3     0.103184  0.111262  0.391691   0.130405  0.147444  0.146901  1.700563  \n",
              " 4     0.104784  0.110694  0.434154   0.118481  0.140314  0.148380  1.839730  \n",
              " ...        ...       ...       ...        ...       ...       ...       ...  \n",
              " 1075  0.115806  0.183324  0.374088   0.318782  0.204660  0.328327  1.364823  \n",
              " 1076  0.113614  0.175674  0.375259   0.325639  0.200415  0.293435  1.364478  \n",
              " 1077  0.118948  0.158296  0.422121   0.321306  0.229193  0.355213  1.430825  \n",
              " 1078  0.125295  0.196296  0.397676   0.335936  0.251317  0.365353  1.404031  \n",
              " 1079  0.118899  0.187556  0.420347   0.335062  0.252995  0.365278  1.370999  \n",
              " \n",
              " [1080 rows x 77 columns],\n",
              " 'details': {'default_target_attribute': 'class',\n",
              "  'description_version': '1',\n",
              "  'file_id': '17928620',\n",
              "  'format': 'ARFF',\n",
              "  'id': '40966',\n",
              "  'ignore_attribute': ['Genotype', 'Treatment', 'Behavior'],\n",
              "  'licence': 'Public',\n",
              "  'md5_checksum': '3c479a6885bfa0438971388283a1ce32',\n",
              "  'minio_url': 'http://openml1.win.tue.nl/dataset40966/dataset_40966.pq',\n",
              "  'name': 'MiceProtein',\n",
              "  'processing_date': '2018-10-04 00:49:58',\n",
              "  'row_id_attribute': 'MouseID',\n",
              "  'status': 'active',\n",
              "  'tag': ['OpenML-CC18', 'study_135', 'study_98', 'study_99'],\n",
              "  'upload_date': '2017-11-08T16:00:15',\n",
              "  'url': 'https://www.openml.org/data/v1/download/17928620/MiceProtein.arff',\n",
              "  'version': '4',\n",
              "  'visibility': 'public'},\n",
              " 'feature_names': ['DYRK1A_N',\n",
              "  'ITSN1_N',\n",
              "  'BDNF_N',\n",
              "  'NR1_N',\n",
              "  'NR2A_N',\n",
              "  'pAKT_N',\n",
              "  'pBRAF_N',\n",
              "  'pCAMKII_N',\n",
              "  'pCREB_N',\n",
              "  'pELK_N',\n",
              "  'pERK_N',\n",
              "  'pJNK_N',\n",
              "  'PKCA_N',\n",
              "  'pMEK_N',\n",
              "  'pNR1_N',\n",
              "  'pNR2A_N',\n",
              "  'pNR2B_N',\n",
              "  'pPKCAB_N',\n",
              "  'pRSK_N',\n",
              "  'AKT_N',\n",
              "  'BRAF_N',\n",
              "  'CAMKII_N',\n",
              "  'CREB_N',\n",
              "  'ELK_N',\n",
              "  'ERK_N',\n",
              "  'GSK3B_N',\n",
              "  'JNK_N',\n",
              "  'MEK_N',\n",
              "  'TRKA_N',\n",
              "  'RSK_N',\n",
              "  'APP_N',\n",
              "  'Bcatenin_N',\n",
              "  'SOD1_N',\n",
              "  'MTOR_N',\n",
              "  'P38_N',\n",
              "  'pMTOR_N',\n",
              "  'DSCR1_N',\n",
              "  'AMPKA_N',\n",
              "  'NR2B_N',\n",
              "  'pNUMB_N',\n",
              "  'RAPTOR_N',\n",
              "  'TIAM1_N',\n",
              "  'pP70S6_N',\n",
              "  'NUMB_N',\n",
              "  'P70S6_N',\n",
              "  'pGSK3B_N',\n",
              "  'pPKCG_N',\n",
              "  'CDK5_N',\n",
              "  'S6_N',\n",
              "  'ADARB1_N',\n",
              "  'AcetylH3K9_N',\n",
              "  'RRP1_N',\n",
              "  'BAX_N',\n",
              "  'ARC_N',\n",
              "  'ERBB4_N',\n",
              "  'nNOS_N',\n",
              "  'Tau_N',\n",
              "  'GFAP_N',\n",
              "  'GluR3_N',\n",
              "  'GluR4_N',\n",
              "  'IL1B_N',\n",
              "  'P3525_N',\n",
              "  'pCASP9_N',\n",
              "  'PSD95_N',\n",
              "  'SNCA_N',\n",
              "  'Ubiquitin_N',\n",
              "  'pGSK3B_Tyr216_N',\n",
              "  'SHH_N',\n",
              "  'BAD_N',\n",
              "  'BCL2_N',\n",
              "  'pS6_N',\n",
              "  'pCFOS_N',\n",
              "  'SYP_N',\n",
              "  'H3AcK18_N',\n",
              "  'EGR1_N',\n",
              "  'H3MeK4_N',\n",
              "  'CaNA_N'],\n",
              " 'frame':       DYRK1A_N   ITSN1_N    BDNF_N     NR1_N    NR2A_N    pAKT_N   pBRAF_N  \\\n",
              " 0     0.503644  0.747193  0.430175  2.816329  5.990152  0.218830  0.177565   \n",
              " 1     0.514617  0.689064  0.411770  2.789514  5.685038  0.211636  0.172817   \n",
              " 2     0.509183  0.730247  0.418309  2.687201  5.622059  0.209011  0.175722   \n",
              " 3     0.442107  0.617076  0.358626  2.466947  4.979503  0.222886  0.176463   \n",
              " 4     0.434940  0.617430  0.358802  2.365785  4.718679  0.213106  0.173627   \n",
              " ...        ...       ...       ...       ...       ...       ...       ...   \n",
              " 1075  0.254860  0.463591  0.254860  2.092082  2.600035  0.211736  0.171262   \n",
              " 1076  0.272198  0.474163  0.251638  2.161390  2.801492  0.251274  0.182496   \n",
              " 1077  0.228700  0.395179  0.234118  1.733184  2.220852  0.220665  0.161435   \n",
              " 1078  0.221242  0.412894  0.243974  1.876347  2.384088  0.208897  0.173623   \n",
              " 1079  0.302626  0.461059  0.256564  2.092790  2.594348  0.251001  0.191811   \n",
              " \n",
              "       pCAMKII_N   pCREB_N    pELK_N  ...     BAD_N  BCL2_N     pS6_N  \\\n",
              " 0      2.373744  0.232224  1.750936  ...  0.122652     NaN  0.106305   \n",
              " 1      2.292150  0.226972  1.596377  ...  0.116682     NaN  0.106592   \n",
              " 2      2.283337  0.230247  1.561316  ...  0.118508     NaN  0.108303   \n",
              " 3      2.152301  0.207004  1.595086  ...  0.132781     NaN  0.103184   \n",
              " 4      2.134014  0.192158  1.504230  ...  0.129954     NaN  0.104784   \n",
              " ...         ...       ...       ...  ...       ...     ...       ...   \n",
              " 1075   2.483740  0.207317  1.057971  ...  0.190483     NaN  0.115806   \n",
              " 1076   2.512737  0.216339  1.081150  ...  0.190463     NaN  0.113614   \n",
              " 1077   1.989723  0.185164  0.884342  ...  0.216682     NaN  0.118948   \n",
              " 1078   2.086028  0.192044  0.922595  ...  0.222263     NaN  0.125295   \n",
              " 1079   2.361816  0.223632  1.064085  ...  0.227606     NaN  0.118899   \n",
              " \n",
              "        pCFOS_N     SYP_N  H3AcK18_N    EGR1_N  H3MeK4_N    CaNA_N   class  \n",
              " 0     0.108336  0.427099   0.114783  0.131790  0.128186  1.675652  c-CS-m  \n",
              " 1     0.104315  0.441581   0.111974  0.135103  0.131119  1.743610  c-CS-m  \n",
              " 2     0.106219  0.435777   0.111883  0.133362  0.127431  1.926427  c-CS-m  \n",
              " 3     0.111262  0.391691   0.130405  0.147444  0.146901  1.700563  c-CS-m  \n",
              " 4     0.110694  0.434154   0.118481  0.140314  0.148380  1.839730  c-CS-m  \n",
              " ...        ...       ...        ...       ...       ...       ...     ...  \n",
              " 1075  0.183324  0.374088   0.318782  0.204660  0.328327  1.364823  t-SC-s  \n",
              " 1076  0.175674  0.375259   0.325639  0.200415  0.293435  1.364478  t-SC-s  \n",
              " 1077  0.158296  0.422121   0.321306  0.229193  0.355213  1.430825  t-SC-s  \n",
              " 1078  0.196296  0.397676   0.335936  0.251317  0.365353  1.404031  t-SC-s  \n",
              " 1079  0.187556  0.420347   0.335062  0.252995  0.365278  1.370999  t-SC-s  \n",
              " \n",
              " [1080 rows x 78 columns],\n",
              " 'target': 0       c-CS-m\n",
              " 1       c-CS-m\n",
              " 2       c-CS-m\n",
              " 3       c-CS-m\n",
              " 4       c-CS-m\n",
              "          ...  \n",
              " 1075    t-SC-s\n",
              " 1076    t-SC-s\n",
              " 1077    t-SC-s\n",
              " 1078    t-SC-s\n",
              " 1079    t-SC-s\n",
              " Name: class, Length: 1080, dtype: category\n",
              " Categories (8, object): ['c-CS-m', 'c-CS-s', 'c-SC-m', 'c-SC-s', 't-CS-m', 't-CS-s', 't-SC-m',\n",
              "                          't-SC-s'],\n",
              " 'target_names': ['class'],\n",
              " 'url': 'https://www.openml.org/d/40966'}"
            ]
          },
          "metadata": {},
          "execution_count": 12
        }
      ]
    },
    {
      "cell_type": "markdown",
      "source": [
        ""
      ],
      "metadata": {
        "id": "RtniimVB5edO"
      }
    },
    {
      "cell_type": "code",
      "source": [
        "mice.details"
      ],
      "metadata": {
        "id": "6fRlfMJKFGil",
        "colab": {
          "base_uri": "https://localhost:8080/"
        },
        "outputId": "eddd7a94-47a9-4924-cc05-990ee91b6d01"
      },
      "execution_count": 13,
      "outputs": [
        {
          "output_type": "execute_result",
          "data": {
            "text/plain": [
              "{'default_target_attribute': 'class',\n",
              " 'description_version': '1',\n",
              " 'file_id': '17928620',\n",
              " 'format': 'ARFF',\n",
              " 'id': '40966',\n",
              " 'ignore_attribute': ['Genotype', 'Treatment', 'Behavior'],\n",
              " 'licence': 'Public',\n",
              " 'md5_checksum': '3c479a6885bfa0438971388283a1ce32',\n",
              " 'minio_url': 'http://openml1.win.tue.nl/dataset40966/dataset_40966.pq',\n",
              " 'name': 'MiceProtein',\n",
              " 'processing_date': '2018-10-04 00:49:58',\n",
              " 'row_id_attribute': 'MouseID',\n",
              " 'status': 'active',\n",
              " 'tag': ['OpenML-CC18', 'study_135', 'study_98', 'study_99'],\n",
              " 'upload_date': '2017-11-08T16:00:15',\n",
              " 'url': 'https://www.openml.org/data/v1/download/17928620/MiceProtein.arff',\n",
              " 'version': '4',\n",
              " 'visibility': 'public'}"
            ]
          },
          "metadata": {},
          "execution_count": 13
        }
      ]
    },
    {
      "cell_type": "markdown",
      "source": [
        "# New Section"
      ],
      "metadata": {
        "id": "Rrjv9DvkHdhw"
      }
    },
    {
      "cell_type": "code",
      "source": [
        "import pandas as pd\n",
        "import matplotlib.pyplot as plt \n",
        "total_data = pd.read_csv('/content/Seed_Data.csv')"
      ],
      "metadata": {
        "id": "9V8hdx2WIGuG"
      },
      "execution_count": 16,
      "outputs": []
    },
    {
      "cell_type": "code",
      "source": [
        "X = total_data.iloc[:,:7]\n",
        "Y = total_data.iloc[:,7]"
      ],
      "metadata": {
        "id": "GQxAR5lNJ23K"
      },
      "execution_count": 17,
      "outputs": []
    },
    {
      "cell_type": "code",
      "source": [
        "plt.plot(X,Y) \n"
      ],
      "metadata": {
        "id": "P4XfMZaQKrec",
        "colab": {
          "base_uri": "https://localhost:8080/",
          "height": 387
        },
        "outputId": "60686fe9-e0e5-48a0-85e3-a386fb22fa8b"
      },
      "execution_count": 18,
      "outputs": [
        {
          "output_type": "execute_result",
          "data": {
            "text/plain": [
              "[<matplotlib.lines.Line2D at 0x7f94b2de5e90>,\n",
              " <matplotlib.lines.Line2D at 0x7f94ac2f1590>,\n",
              " <matplotlib.lines.Line2D at 0x7f94ac2f1750>,\n",
              " <matplotlib.lines.Line2D at 0x7f94ac2f1910>,\n",
              " <matplotlib.lines.Line2D at 0x7f94ac2f1ad0>,\n",
              " <matplotlib.lines.Line2D at 0x7f94ac2f1c90>,\n",
              " <matplotlib.lines.Line2D at 0x7f94ac2f1ed0>]"
            ]
          },
          "metadata": {},
          "execution_count": 18
        },
        {
          "output_type": "display_data",
          "data": {
            "text/plain": [
              "<Figure size 432x288 with 1 Axes>"
            ],
            "image/png": "[encoded data removed]"
          },
          "metadata": {
            "needs_background": "light"
          }
        }
      ]
    },
    {
      "cell_type": "code",
      "source": [
        "from sklearn.svm import SVC\n",
        "from sklearn.model_selection import train_test_split\n",
        "X_train, X_test, Y_train,Y_test = train_test_split(X,Y,test_size = 0.2, random_state=13)\n",
        " \n"
      ],
      "metadata": {
        "id": "naZrjVj8LhJ-"
      },
      "execution_count": 19,
      "outputs": []
    },
    {
      "cell_type": "code",
      "source": [
        "from sklearn.preprocessing import StandardScaler\n",
        "sc = StandardScaler()\n",
        "X_train = sc.fit_transform(X_train)\n",
        "X_test = sc.transform(X_test)\n",
        "clf = SVC()\n",
        "clf.fit(X_train, Y_train) \n",
        "#Y_train = sc.fit_transform(Y_train)\n"
      ],
      "metadata": {
        "colab": {
          "base_uri": "https://localhost:8080/"
        },
        "id": "wMyCfqo7NccP",
        "outputId": "f29d0e5b-4906-45fa-e7de-e95ab3368051"
      },
      "execution_count": 20,
      "outputs": [
        {
          "output_type": "execute_result",
          "data": {
            "text/plain": [
              "SVC()"
            ]
          },
          "metadata": {},
          "execution_count": 20
        }
      ]
    },
    {
      "cell_type": "code",
      "source": [
        "pred_clf = clf.predict(X_test)\n"
      ],
      "metadata": {
        "id": "5H66PIfATB98"
      },
      "execution_count": 21,
      "outputs": []
    },
    {
      "cell_type": "code",
      "source": [
        "sklearn.metrics.accuracy_score(Y_test, pred_clf) "
      ],
      "metadata": {
        "colab": {
          "base_uri": "https://localhost:8080/"
        },
        "id": "itVQ1b_STPgu",
        "outputId": "04c6c3b9-9ea4-434f-be33-5331e9b13a7c"
      },
      "execution_count": 22,
      "outputs": [
        {
          "output_type": "execute_result",
          "data": {
            "text/plain": [
              "0.9523809523809523"
            ]
          },
          "metadata": {},
          "execution_count": 22
        }
      ]
    },
    {
      "cell_type": "markdown",
      "source": [
        "pickling a model that is saving the trained model"
      ],
      "metadata": {
        "id": "ioregalImg_5"
      }
    },
    {
      "cell_type": "code",
      "source": [
        "import pickle"
      ],
      "metadata": {
        "id": "_mbLSpsrl8Ow"
      },
      "execution_count": 23,
      "outputs": []
    },
    {
      "cell_type": "code",
      "source": [
        "with open('/home/model_pickle', 'wb') as f:\n",
        "  pickle.dump(clf, f)\n"
      ],
      "metadata": {
        "id": "hIiPXyXZmvD2"
      },
      "execution_count": 29,
      "outputs": []
    },
    {
      "cell_type": "code",
      "source": [
        "with open('/home/model_pickle', 'rb') as f:\n",
        "  trained_model = pickle.load(f)"
      ],
      "metadata": {
        "id": "V4c4DPpRl-p_"
      },
      "execution_count": 30,
      "outputs": []
    },
    {
      "cell_type": "code",
      "source": [
        "predicting_clf = trained_model.predict(X_test)"
      ],
      "metadata": {
        "id": "ahCfT5RLpCzF"
      },
      "execution_count": 32,
      "outputs": []
    },
    {
      "cell_type": "code",
      "source": [
        "sklearn.metrics.accuracy_score(Y_test, pred_clf) \n"
      ],
      "metadata": {
        "colab": {
          "base_uri": "https://localhost:8080/"
        },
        "id": "slH6PNIZp_Dl",
        "outputId": "b3c7c3fe-c289-438f-8358-455c8d7fbadb"
      },
      "execution_count": 33,
      "outputs": [
        {
          "output_type": "execute_result",
          "data": {
            "text/plain": [
              "0.9523809523809523"
            ]
          },
          "metadata": {},
          "execution_count": 33
        }
      ]
    }
  ]
}